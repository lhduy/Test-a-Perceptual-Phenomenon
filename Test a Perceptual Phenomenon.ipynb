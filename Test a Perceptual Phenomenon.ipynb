{
 "cells": [
  {
   "cell_type": "markdown",
   "metadata": {},
   "source": [
    "# Question for investigation\n",
    "## 1. What is our indepedent variable ? What is our dependent variable ?\n",
    "- The independent variable is the task that has two conditions: a congruent words condition and an incongruent words condition.\n",
    "- The dependent variable is the reaction time to answer the ink colors in equally-sized lists of each participant.\n",
    "\n",
    "## 2. What is an appropriate set of hypotheses for this task? What kind of statistical test do you expect to perform? Justify your choices.\n",
    "- Null hypothesis: there will not a difference in the population means reaction time between congurent and incongurent conditions.( H0: μC = μI).\n",
    "- Alternative hypothesis: the population mean reaction time in incongurent condition will take longer than congurent condition. (H1: μC < μI)\n",
    "- Firsly, we expect that the results of both condition will be normal distribution. Secondly, depending on the number of participants we will use one tailed t-test if we do not know population paramenters (sample size < 30) or one tailed z-test if we know population parameters (sample size > 30). If we use t-statistic, it should be dependent sample t-test because it is repeated measurements with two conditions."
   ]
  },
  {
   "cell_type": "markdown",
   "metadata": {},
   "source": [
    "### Reading the data"
   ]
  },
  {
   "cell_type": "code",
   "execution_count": 19,
   "metadata": {
    "collapsed": true
   },
   "outputs": [],
   "source": [
    "%matplotlib inline\n",
    "import csv\n",
    "import math\n",
    "import pandas as pd\n",
    "from IPython.display import display\n",
    "import matplotlib.pyplot as plt"
   ]
  },
  {
   "cell_type": "code",
   "execution_count": 20,
   "metadata": {
    "collapsed": false
   },
   "outputs": [
    {
     "data": {
      "text/html": [
       "<div>\n",
       "<table border=\"1\" class=\"dataframe\">\n",
       "  <thead>\n",
       "    <tr style=\"text-align: right;\">\n",
       "      <th></th>\n",
       "      <th>Congruent</th>\n",
       "      <th>Incongruent</th>\n",
       "    </tr>\n",
       "  </thead>\n",
       "  <tbody>\n",
       "    <tr>\n",
       "      <th>0</th>\n",
       "      <td>12.079</td>\n",
       "      <td>19.278</td>\n",
       "    </tr>\n",
       "    <tr>\n",
       "      <th>1</th>\n",
       "      <td>16.791</td>\n",
       "      <td>18.741</td>\n",
       "    </tr>\n",
       "    <tr>\n",
       "      <th>2</th>\n",
       "      <td>9.564</td>\n",
       "      <td>21.214</td>\n",
       "    </tr>\n",
       "    <tr>\n",
       "      <th>3</th>\n",
       "      <td>8.630</td>\n",
       "      <td>15.687</td>\n",
       "    </tr>\n",
       "    <tr>\n",
       "      <th>4</th>\n",
       "      <td>14.669</td>\n",
       "      <td>22.803</td>\n",
       "    </tr>\n",
       "  </tbody>\n",
       "</table>\n",
       "</div>"
      ],
      "text/plain": [
       "   Congruent  Incongruent\n",
       "0     12.079       19.278\n",
       "1     16.791       18.741\n",
       "2      9.564       21.214\n",
       "3      8.630       15.687\n",
       "4     14.669       22.803"
      ]
     },
     "metadata": {},
     "output_type": "display_data"
    }
   ],
   "source": [
    "sample_data = pd.read_csv('stroopdata.csv')\n",
    "display(sample_data.head())"
   ]
  },
  {
   "cell_type": "markdown",
   "metadata": {},
   "source": [
    "## 3. Report some descriptive statistics regarding this dataset. Include at least one measure of central tendency and at least one measure of variability."
   ]
  },
  {
   "cell_type": "markdown",
   "metadata": {},
   "source": [
    "The size of sample is 24. The below result is the statistics of central tendency. The distribution and mode will be displayed in the visualization in section 4."
   ]
  },
  {
   "cell_type": "code",
   "execution_count": 21,
   "metadata": {
    "collapsed": false
   },
   "outputs": [
    {
     "name": "stdout",
     "output_type": "stream",
     "text": [
      "The average time of Congruent group is 14.051125\n",
      "The median time of Congruent group is 14.3565\n",
      "The standard deviation of Congruent group is 3.55935795765\n",
      "The range time of Congruent group is 13.698\n",
      "The variance of Congruent group is 12.6690290707\n",
      "\n",
      "The average time of Incongruent group is 22.0159166667\n",
      "The median time of Incongruent group is 21.0175\n",
      "The standard deviation of Incongruent group is  4.79705712247\n",
      "The range time of Incongruent group is 19.568\n",
      "The variance of Incongruent group is 12.6690290707\n"
     ]
    }
   ],
   "source": [
    "xA = sample_data['Congruent'].mean()\n",
    "xB = sample_data['Incongruent'].mean()\n",
    "\n",
    "medianA = sample_data['Congruent'].median()\n",
    "medianB = sample_data['Incongruent'].median()\n",
    "\n",
    "stdA = sample_data['Congruent'].std()\n",
    "stdB = sample_data['Incongruent'].std()\n",
    "\n",
    "rangeA = sample_data['Congruent'].max() - sample_data['Congruent'].min()\n",
    "rangeB = sample_data['Incongruent'].max() - sample_data['Incongruent'].min()\n",
    "\n",
    "varA = sample_data['Congruent'].var()\n",
    "varB = sample_data['Incongruent'].var()\n",
    "\n",
    "print '{} {}'.format('The average time of Congruent group is',str(xA))\n",
    "print '{} {}'.format('The median time of Congruent group is',str(medianA))\n",
    "print '{} {}'.format('The standard deviation of Congruent group is',str(stdA))\n",
    "print '{} {}'.format('The range time of Congruent group is',str(rangeA))\n",
    "print '{} {}'.format('The variance of Congruent group is',str(varA))\n",
    "print('')\n",
    "print '{} {}'.format('The average time of Incongruent group is',str(xB))\n",
    "print '{} {}'.format('The median time of Incongruent group is',str(medianB))\n",
    "print '{} {}'.format('The standard deviation of Incongruent group is ',str(stdB))\n",
    "print '{} {}'.format('The range time of Incongruent group is',str(rangeB))\n",
    "print '{} {}'.format('The variance of Incongruent group is',str(varA))"
   ]
  },
  {
   "cell_type": "code",
   "execution_count": 22,
   "metadata": {
    "collapsed": false
   },
   "outputs": [
    {
     "data": {
      "text/plain": [
       "<matplotlib.text.Text at 0xadb5080>"
      ]
     },
     "execution_count": 22,
     "metadata": {},
     "output_type": "execute_result"
    },
    {
     "data": {
      "image/png": "[encoded data removed]",
      "text/plain": [
       "<matplotlib.figure.Figure at 0xa8a4a90>"
      ]
     },
     "metadata": {},
     "output_type": "display_data"
    },
    {
     "data": {
      "image/png": "[encoded data removed]",
      "text/plain": [
       "<matplotlib.figure.Figure at 0xab29ba8>"
      ]
     },
     "metadata": {},
     "output_type": "display_data"
    }
   ],
   "source": [
    "sample_data['Congruent'].hist(range=[0,40])\n",
    "plt.title('Congruent Group')\n",
    "plt.xlabel('Time')\n",
    "plt.ylabel('Frequency')\n",
    "plt.figure()\n",
    "sample_data['Incongruent'].hist(range=[0,40])\n",
    "plt.title('Incongruent Group')\n",
    "plt.xlabel('Time')\n",
    "plt.ylabel('Frequency')"
   ]
  },
  {
   "cell_type": "markdown",
   "metadata": {},
   "source": [
    "The visualization shows that the both sample data are normal distribution because the mode, the median and the mean of each sample are located in same range of time."
   ]
  },
  {
   "cell_type": "markdown",
   "metadata": {},
   "source": [
    "## 5. Now, perform the statistical test and report your results. What is your confidence level and your critical statistic value? Do you reject the null hypothesis or fail to reject it? Come to a conclusion in terms of the experiment task. Did the results match up with your expectations?"
   ]
  },
  {
   "cell_type": "markdown",
   "metadata": {},
   "source": [
    "I decided to use one tailed t-test with p < 0.05 to determine if two conditions are significantly different and Incongurent condition has more effect on vision analysis (longer time) than Congurent condition.\n",
    "- t-critical value of 24 sample in one tailed t-test is: 1.713 (p < 0.05)"
   ]
  },
  {
   "cell_type": "code",
   "execution_count": 23,
   "metadata": {
    "collapsed": false
   },
   "outputs": [],
   "source": [
    "diff = sample_data['Incongruent'] - sample_data['Congruent']\n",
    "meanD = diff.mean()\n",
    "SD = diff.std()\n",
    "t_statistic = meanD/(SD/math.sqrt(24))"
   ]
  },
  {
   "cell_type": "code",
   "execution_count": 24,
   "metadata": {
    "collapsed": false
   },
   "outputs": [
    {
     "name": "stdout",
     "output_type": "stream",
     "text": [
      "The t-statistic is 8.02070694411\n",
      "The Cohen'd is 1.63721994912\n",
      "The confident interval is: 6.26373361529 to 9.66584971804\n"
     ]
    }
   ],
   "source": [
    "print(\"The t-statistic is \"+ str(t_statistic))\n",
    "print(\"The Cohen'd is \"+str(meanD/SD))\n",
    "print(\"The confident interval is: \"+ str(meanD-1.713*SD/math.sqrt(24))+\" to \"+str(meanD+1.713*SD/math.sqrt(24)))"
   ]
  },
  {
   "cell_type": "markdown",
   "metadata": {},
   "source": [
    "- Because the t-statistic value is larger than t-critical value so we reject the null hypothesis. \n",
    "- In conclusion, there is a significantly difference between two condition and Incongurent condition takes longer to provide the result than Congurent condition (p < 0.05).\n",
    "- This result match ups with my expectation. I also have longer reaction time to answer Incongurent test than Congurent one."
   ]
  },
  {
   "cell_type": "markdown",
   "metadata": {
    "collapsed": true
   },
   "source": [
    "## 6. Optional: What do you think is responsible for the effects observed? Can you think of an alternative or similar task that would result in a similar effect? Some research about the problem will be helpful for thinking about these two questions!"
   ]
  },
  {
   "cell_type": "markdown",
   "metadata": {},
   "source": [
    "- The ability of different area in brain (process speed, selective attention, automaticity, parallel distributed processing) or the distraction of participants in the test is responsible for the effects observed.\n",
    "- One of task that would result in a similar effect is Spatial Stroop effect. In this test, a right or left arrow appears randomly left-side or right-side of a center point. The participant is asked to discriminate the direction of arrow while ignoring its location.  The reaction time takes longer in incongurent stimuli (i.e left pointing arrow located on the right of the point) than in congurent stimuli (i.e left pointing arrow located on the left of the point)."
   ]
  }
 ],
 "metadata": {
  "anaconda-cloud": {},
  "kernelspec": {
   "display_name": "Python [Root]",
   "language": "python",
   "name": "Python [Root]"
  },
  "language_info": {
   "codemirror_mode": {
    "name": "ipython",
    "version": 2
   },
   "file_extension": ".py",
   "mimetype": "text/x-python",
   "name": "python",
   "nbconvert_exporter": "python",
   "pygments_lexer": "ipython2",
   "version": "2.7.12"
  }
 },
 "nbformat": 4,
 "nbformat_minor": 0
}
